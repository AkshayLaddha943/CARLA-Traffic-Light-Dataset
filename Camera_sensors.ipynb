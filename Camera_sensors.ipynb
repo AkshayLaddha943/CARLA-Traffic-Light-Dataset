{
 "cells": [
  {
   "cell_type": "code",
   "execution_count": 1,
   "id": "3421ce79",
   "metadata": {},
   "outputs": [],
   "source": [
    "import carla \n",
    "import math \n",
    "import random \n",
    "import time \n",
    "import numpy as np\n",
    "import cv2\n",
    "import matplotlib"
   ]
  },
  {
   "cell_type": "code",
   "execution_count": 2,
   "id": "b1bac698",
   "metadata": {},
   "outputs": [],
   "source": [
    "# Connect the client and set up bp library and spawn points\n",
    "client = carla.Client('localhost', 3000) \n",
    "world = client.get_world()\n",
    "bp_lib = world.get_blueprint_library()  \n",
    "spawn_points = world.get_map().get_spawn_points() "
   ]
  },
  {
   "cell_type": "code",
   "execution_count": 52,
   "id": "7fe40403",
   "metadata": {},
   "outputs": [],
   "source": [
    "# Spawn ego vehicle\n",
    "vehicle_bp = bp_lib.find('vehicle.audi.a2') \n",
    "vehicle = world.try_spawn_actor(vehicle_bp, random.choice(spawn_points))\n",
    "\n",
    "# Move spectator behind vehicle to view\n",
    "spectator = world.get_spectator() \n",
    "transform = carla.Transform(vehicle.get_transform().transform(carla.Location(x=-4,z=2.5)),vehicle.get_transform().rotation) \n",
    "spectator.set_transform(transform)"
   ]
  },
  {
   "cell_type": "code",
   "execution_count": 82,
   "id": "646c35c4",
   "metadata": {},
   "outputs": [],
   "source": [
    "list_actor = world.get_actors()\n",
    "for actor_ in list_actor:\n",
    "    if isinstance(actor_, carla.TrafficLight):\n",
    "        actor_.set_state(carla.TrafficLightState.Yellow)\n",
    "        actor_.set_yellow_time(1000.0)"
   ]
  },
  {
   "cell_type": "code",
   "execution_count": 104,
   "id": "e1545e97",
   "metadata": {},
   "outputs": [
    {
     "data": {
      "text/plain": [
       "True"
      ]
     },
     "execution_count": 104,
     "metadata": {},
     "output_type": "execute_result"
    }
   ],
   "source": [
    "camera_bp = bp_lib.find('sensor.camera.rgb')\n",
    "camera_bp.set_attribute('image_size_x', '1920')\n",
    "camera_bp.set_attribute('image_size_y', '1080') \n",
    "camera_bp.set_attribute('fov', '110')\n",
    "camera_init_trans = carla.Transform(carla.Location(x=35.3, y=10.2, z=4.0), carla.Rotation(yaw=180.0)) #Change this to move camera\n",
    "camera = world.spawn_actor(camera_bp, camera_init_trans, attach_to=vehicle)\n",
    "\n",
    "camera.listen(lambda image: image.save_to_disk(\"C:\\\\CARLA_Image_Dataset\\\\Null\\\\%06d.png\" % image.frame))\n",
    "\n",
    "time.sleep(150.0)\n",
    "#spectator.set_transform(camera.get_transform())\n",
    "camera.destroy()"
   ]
  }
 ],
 "metadata": {
  "kernelspec": {
   "display_name": "Python 3 (ipykernel)",
   "language": "python",
   "name": "python3"
  },
  "language_info": {
   "codemirror_mode": {
    "name": "ipython",
    "version": 3
   },
   "file_extension": ".py",
   "mimetype": "text/x-python",
   "name": "python",
   "nbconvert_exporter": "python",
   "pygments_lexer": "ipython3",
   "version": "3.7.0"
  }
 },
 "nbformat": 4,
 "nbformat_minor": 5
}
